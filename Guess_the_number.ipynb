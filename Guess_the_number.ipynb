{
 "cells": [
  {
   "cell_type": "code",
   "execution_count": null,
   "metadata": {},
   "outputs": [],
   "source": [
    "import random\n",
    "print ('welcome to the game')\n",
    "while (True):\n",
    "    guess=int(input('guess a number between 1 and 100:'))\n",
    "    number=random.randint(1,100)\n",
    "    if number<guess:\n",
    "        print('the guess is too high')\n",
    "    elif number>guess:\n",
    "        print('the guess is too low') \n",
    "    else:\n",
    "        print('congrats')\n"
   ]
  }
 ],
 "metadata": {
  "language_info": {
   "name": "python"
  }
 },
 "nbformat": 4,
 "nbformat_minor": 2
}
